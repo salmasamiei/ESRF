{
  "nbformat": 4,
  "nbformat_minor": 0,
  "metadata": {
    "colab": {
      "name": "Copy of unet_Keras.ipynb",
      "provenance": [],
      "collapsed_sections": [],
      "toc_visible": true,
      "include_colab_link": true
    },
    "kernelspec": {
      "name": "python3",
      "display_name": "Python 3"
    }
  },
  "cells": [
    {
      "cell_type": "markdown",
      "metadata": {
        "id": "view-in-github",
        "colab_type": "text"
      },
      "source": [
        "<a href=\"https://colab.research.google.com/github/salmasamiei/ESRF-2020-Tutorial-T5/blob/master/Copy_of_unet_Keras.ipynb\" target=\"_parent\"><img src=\"https://colab.research.google.com/assets/colab-badge.svg\" alt=\"Open In Colab\"/></a>"
      ]
    },
    {
      "cell_type": "markdown",
      "metadata": {
        "id": "cxJNtcLHyxK7",
        "colab_type": "text"
      },
      "source": [
        "## Training a Unet\n",
        "\n",
        "In this notebook, we will train a 2D U-net for nuclei segmentation in the Kaggle Nuclei dataset.\n",
        "\n",
        "It is still possible to do this exercise on the CPU, but you will need some patience to wait for the training. That's why we have added GPU support.\n",
        "Please switch your Notebook to GPU in Edit -> Notebook Settings -> Hardware Accelerator.\n"
      ]
    },
    {
      "cell_type": "markdown",
      "metadata": {
        "id": "d5CNxOpgx-ey",
        "colab_type": "text"
      },
      "source": [
        "## The libraries"
      ]
    },
    {
      "cell_type": "code",
      "metadata": {
        "id": "IK0BTeevRv_N",
        "colab_type": "code",
        "outputId": "f38ff616-9c28-41c0-dc64-1dd44f002009",
        "colab": {
          "base_uri": "https://localhost:8080/",
          "height": 99
        }
      },
      "source": [
        "import os\n",
        "import sys\n",
        "import random\n",
        "import warnings\n",
        "\n",
        "import numpy as np\n",
        "import pandas as pd\n",
        "import imageio\n",
        "\n",
        "import matplotlib.pyplot as plt\n",
        "\n",
        "from tqdm import tqdm\n",
        "from itertools import chain\n",
        "from skimage.io import imread, imshow, imread_collection, concatenate_images\n",
        "from skimage.transform import resize\n",
        "from skimage.morphology import label\n",
        "\n",
        "from keras.models import Model, load_model\n",
        "from keras.layers import Input\n",
        "from keras.layers.core import Dropout, Lambda\n",
        "from keras.layers.convolutional import Conv2D, Conv2DTranspose\n",
        "from keras.layers.pooling import MaxPooling2D\n",
        "from keras.layers.merge import concatenate\n",
        "from keras.callbacks import EarlyStopping, ModelCheckpoint\n",
        "from keras import backend as K\n",
        "from keras.layers import Input, BatchNormalization, Activation, Dense, Dropout\n",
        "from keras.optimizers import Adam\n",
        "\n",
        "import tensorflow as tf"
      ],
      "execution_count": 0,
      "outputs": [
        {
          "output_type": "stream",
          "text": [
            "Using TensorFlow backend.\n"
          ],
          "name": "stderr"
        },
        {
          "output_type": "display_data",
          "data": {
            "text/html": [
              "<p style=\"color: red;\">\n",
              "The default version of TensorFlow in Colab will soon switch to TensorFlow 2.x.<br>\n",
              "We recommend you <a href=\"https://www.tensorflow.org/guide/migrate\" target=\"_blank\">upgrade</a> now \n",
              "or ensure your notebook will continue to use TensorFlow 1.x via the <code>%tensorflow_version 1.x</code> magic:\n",
              "<a href=\"https://colab.research.google.com/notebooks/tensorflow_version.ipynb\" target=\"_blank\">more info</a>.</p>\n"
            ],
            "text/plain": [
              "<IPython.core.display.HTML object>"
            ]
          },
          "metadata": {
            "tags": []
          }
        }
      ]
    },
    {
      "cell_type": "markdown",
      "metadata": {
        "id": "rFTBWHvqLYwL",
        "colab_type": "text"
      },
      "source": [
        "## Data loading and preprocessing\n",
        "\n",
        "For this exercise we will be using the Kaggle 2018 Data Science Bowl dataset to apply segmention with the state of the art network.\n",
        "Let's start with loading the data as before."
      ]
    },
    {
      "cell_type": "code",
      "metadata": {
        "id": "k82ftNngK8Qf",
        "colab_type": "code",
        "outputId": "6a24a194-bbac-48aa-8350-ecfa7eb381c1",
        "colab": {
          "base_uri": "https://localhost:8080/",
          "height": 440
        }
      },
      "source": [
        "!wget --load-cookies /tmp/cookies.txt \"https://docs.google.com/uc?export=download&confirm=$(wget --quiet --save-cookies /tmp/cookies.txt --keep-session-cookies --no-check-certificate 'https://docs.google.com/uc?export=download&id=1EbvS10-83JGNE2nlBxIV42izY1TOr115' -O- | sed -rn 's/.*confirm=([0-9A-Za-z_]+).*/\\1\\n/p')&id=1EbvS10-83JGNE2nlBxIV42izY1TOr115\" -O kaggle_data.zip && rm -rf /tmp/cookies.txt\n",
        "!unzip -qq kaggle_data.zip && rm kaggle_data.zip"
      ],
      "execution_count": 0,
      "outputs": [
        {
          "output_type": "stream",
          "text": [
            "--2020-02-01 10:50:31--  https://docs.google.com/uc?export=download&confirm=8eD9&id=1EbvS10-83JGNE2nlBxIV42izY1TOr115\n",
            "Resolving docs.google.com (docs.google.com)... 108.177.127.113, 108.177.127.139, 108.177.127.101, ...\n",
            "Connecting to docs.google.com (docs.google.com)|108.177.127.113|:443... connected.\n",
            "HTTP request sent, awaiting response... 302 Moved Temporarily\n",
            "Location: https://doc-0c-7c-docs.googleusercontent.com/docs/securesc/eci9fb4ocuj282es9s5fafiavegftqq9/e3otv7i9dmugihls6l9aq2p1dojiemln/1580551200000/17999766797462482814/04877893292724646433Z/1EbvS10-83JGNE2nlBxIV42izY1TOr115?e=download [following]\n",
            "--2020-02-01 10:50:31--  https://doc-0c-7c-docs.googleusercontent.com/docs/securesc/eci9fb4ocuj282es9s5fafiavegftqq9/e3otv7i9dmugihls6l9aq2p1dojiemln/1580551200000/17999766797462482814/04877893292724646433Z/1EbvS10-83JGNE2nlBxIV42izY1TOr115?e=download\n",
            "Resolving doc-0c-7c-docs.googleusercontent.com (doc-0c-7c-docs.googleusercontent.com)... 108.177.119.132, 2a00:1450:4013:c00::84\n",
            "Connecting to doc-0c-7c-docs.googleusercontent.com (doc-0c-7c-docs.googleusercontent.com)|108.177.119.132|:443... connected.\n",
            "HTTP request sent, awaiting response... 302 Found\n",
            "Location: https://docs.google.com/nonceSigner?nonce=mbjajlfdbgrfa&continue=https://doc-0c-7c-docs.googleusercontent.com/docs/securesc/eci9fb4ocuj282es9s5fafiavegftqq9/e3otv7i9dmugihls6l9aq2p1dojiemln/1580551200000/17999766797462482814/04877893292724646433Z/1EbvS10-83JGNE2nlBxIV42izY1TOr115?e%3Ddownload&hash=f1nqcju9gmq6tuoso22fk5ktd16l4qrf [following]\n",
            "--2020-02-01 10:50:31--  https://docs.google.com/nonceSigner?nonce=mbjajlfdbgrfa&continue=https://doc-0c-7c-docs.googleusercontent.com/docs/securesc/eci9fb4ocuj282es9s5fafiavegftqq9/e3otv7i9dmugihls6l9aq2p1dojiemln/1580551200000/17999766797462482814/04877893292724646433Z/1EbvS10-83JGNE2nlBxIV42izY1TOr115?e%3Ddownload&hash=f1nqcju9gmq6tuoso22fk5ktd16l4qrf\n",
            "Connecting to docs.google.com (docs.google.com)|108.177.127.113|:443... connected.\n",
            "HTTP request sent, awaiting response... 302 Found\n",
            "Location: https://doc-0c-7c-docs.googleusercontent.com/docs/securesc/eci9fb4ocuj282es9s5fafiavegftqq9/e3otv7i9dmugihls6l9aq2p1dojiemln/1580551200000/17999766797462482814/04877893292724646433Z/1EbvS10-83JGNE2nlBxIV42izY1TOr115?e=download&nonce=mbjajlfdbgrfa&user=04877893292724646433Z&hash=h7p6lc63bombvffh6td8cmam510v6sk8 [following]\n",
            "--2020-02-01 10:50:32--  https://doc-0c-7c-docs.googleusercontent.com/docs/securesc/eci9fb4ocuj282es9s5fafiavegftqq9/e3otv7i9dmugihls6l9aq2p1dojiemln/1580551200000/17999766797462482814/04877893292724646433Z/1EbvS10-83JGNE2nlBxIV42izY1TOr115?e=download&nonce=mbjajlfdbgrfa&user=04877893292724646433Z&hash=h7p6lc63bombvffh6td8cmam510v6sk8\n",
            "Connecting to doc-0c-7c-docs.googleusercontent.com (doc-0c-7c-docs.googleusercontent.com)|108.177.119.132|:443... connected.\n",
            "HTTP request sent, awaiting response... 200 OK\n",
            "Length: unspecified [application/zip]\n",
            "Saving to: ‘kaggle_data.zip’\n",
            "\n",
            "kaggle_data.zip         [   <=>              ]  82.58M   183MB/s    in 0.5s    \n",
            "\n",
            "2020-02-01 10:50:32 (183 MB/s) - ‘kaggle_data.zip’ saved [86592734]\n",
            "\n"
          ],
          "name": "stdout"
        }
      ]
    },
    {
      "cell_type": "markdown",
      "metadata": {
        "id": "89JYxq-bL-Q3",
        "colab_type": "text"
      },
      "source": [
        "Now make sure that the data was successfully extracted: if everything went fine, you should have folders `nuclei_train_data` and `nuclei_val_data` in your working directory. Check if it is the case:"
      ]
    },
    {
      "cell_type": "code",
      "metadata": {
        "id": "Dk-fAyl7L-Zj",
        "colab_type": "code",
        "outputId": "b99de3f2-03e8-4ff4-8362-920a9f1edcdc",
        "colab": {
          "base_uri": "https://localhost:8080/",
          "height": 34
        }
      },
      "source": [
        "!ls"
      ],
      "execution_count": 0,
      "outputs": [
        {
          "output_type": "stream",
          "text": [
            "nuclei_train_data  nuclei_val_data  sample_data\n"
          ],
          "name": "stdout"
        }
      ]
    },
    {
      "cell_type": "code",
      "metadata": {
        "id": "ehovgGj1NQrG",
        "colab_type": "code",
        "colab": {}
      },
      "source": [
        "def show_one_image(image_path):\n",
        "  image = imageio.imread(image_path)\n",
        "  plt.imshow(image)"
      ],
      "execution_count": 0,
      "outputs": []
    },
    {
      "cell_type": "markdown",
      "metadata": {
        "id": "a7WFCKqDUGgC",
        "colab_type": "text"
      },
      "source": [
        "Once you switch to using your own data, you would have to figure out how to fetch the data yourself. Luckily most of the functionality is already provided, but what you need to do is to write a class, that will actually supply the dataloader with training samples - a Dataset.\n",
        "\n"
      ]
    },
    {
      "cell_type": "code",
      "metadata": {
        "id": "FsSW56Rh7ZwA",
        "colab_type": "code",
        "colab": {}
      },
      "source": [
        "# Set some parameters\n",
        "IMG_WIDTH = 256\n",
        "IMG_HEIGHT = 256\n",
        "IMG_CHANNELS = 3\n",
        "TRAIN_PATH = 'nuclei_train_data/'\n",
        "TEST_PATH = 'nuclei_val_data/'\n",
        "\n",
        "warnings.filterwarnings('ignore', category=UserWarning, module='skimage')"
      ],
      "execution_count": 0,
      "outputs": []
    },
    {
      "cell_type": "code",
      "metadata": {
        "id": "0sGsnkG0GB-n",
        "colab_type": "code",
        "colab": {}
      },
      "source": [
        "def get_data(path, train=True):\n",
        "  # get the total number of samples\n",
        "  ids = next(os.walk(path))[1]\n",
        "  X = np.zeros((len(ids), IMG_HEIGHT, IMG_WIDTH, IMG_CHANNELS), dtype=np.uint8)\n",
        "  Y = np.zeros((len(ids), IMG_HEIGHT, IMG_WIDTH, 1), dtype=np.bool)\n",
        "  print('Getting and resizing train images and masks ... ')\n",
        "  sys.stdout.flush()\n",
        "  for n, id_ in tqdm(enumerate(ids), total=len(ids)):\n",
        "    path_new = path + id_\n",
        "    # we'll be using skimage library for reading file\n",
        "    img = imread(path_new + '/images/' + id_ + '.png')[:,:,:IMG_CHANNELS]\n",
        "    img = resize(img, (IMG_HEIGHT, IMG_WIDTH), mode='constant', preserve_range=True)\n",
        "    X[n] = img\n",
        "    # masks directory has multiple images - one mask per nucleus\n",
        "    mask = np.zeros((IMG_HEIGHT, IMG_WIDTH, 1), dtype=np.bool)\n",
        "    for mask_file in next(os.walk(path_new + '/masks/'))[2]:\n",
        "        mask_ = imread(path_new + '/masks/' + mask_file)\n",
        "        mask_ = np.expand_dims(resize(mask_, (IMG_HEIGHT, IMG_WIDTH), mode='constant', \n",
        "                                      preserve_range=True), axis=-1)\n",
        "        mask = np.maximum(mask, mask_)\n",
        "    Y[n] = mask\n",
        "  if train:\n",
        "    return X, Y\n",
        "  else:\n",
        "    return X"
      ],
      "execution_count": 0,
      "outputs": []
    },
    {
      "cell_type": "markdown",
      "metadata": {
        "id": "-bAA6AwnUjqp",
        "colab_type": "text"
      },
      "source": [
        "Now let's load the dataset and visualize it by calling our function:\n",
        "\n",
        "In this example, we read all images of the train folder as training data (applied SGD on) and all images of the validation folder for testing data (report performance on). Validation data (optimize hyper-parameters on) will be taken randomly from training data during the training process."
      ]
    },
    {
      "cell_type": "code",
      "metadata": {
        "id": "Jda9EBbmHUNy",
        "colab_type": "code",
        "outputId": "72bdaa20-001e-4d4d-a7bf-a3f3015e3361",
        "colab": {
          "base_uri": "https://localhost:8080/",
          "height": 84
        }
      },
      "source": [
        "X_train, Y_train = get_data(TRAIN_PATH, train=True)\n",
        "X_test, Y_test = get_data(TEST_PATH, train=True)"
      ],
      "execution_count": 0,
      "outputs": [
        {
          "output_type": "stream",
          "text": [
            "Getting and resizing train images and masks ... \n"
          ],
          "name": "stdout"
        },
        {
          "output_type": "stream",
          "text": [
            "100%|██████████| 536/536 [05:15<00:00,  1.67it/s]"
          ],
          "name": "stderr"
        },
        {
          "output_type": "stream",
          "text": [
            "Getting and resizing train images and masks ... \n"
          ],
          "name": "stdout"
        },
        {
          "output_type": "stream",
          "text": [
            "\n",
            "100%|██████████| 134/134 [01:30<00:00,  1.48it/s]\n"
          ],
          "name": "stderr"
        }
      ]
    },
    {
      "cell_type": "code",
      "metadata": {
        "id": "iyve1KK4-sS8",
        "colab_type": "code",
        "outputId": "ec217021-de89-4fe1-bcde-12d8961762ee",
        "colab": {
          "base_uri": "https://localhost:8080/",
          "height": 577
        }
      },
      "source": [
        "# Check if training data looks all right\n",
        "ix = random.randint(0, len(X_train))\n",
        "imshow(X_train[ix])\n",
        "plt.show()\n",
        "imshow(np.squeeze(Y_train[ix]))\n",
        "plt.show()"
      ],
      "execution_count": 0,
      "outputs": [
        {
          "output_type": "display_data",
          "data": {
            "image/png": "[encoded data removed]",
            "text/plain": [
              "<Figure size 432x288 with 1 Axes>"
            ]
          },
          "metadata": {
            "tags": []
          }
        },
        {
          "output_type": "display_data",
          "data": {
            "image/png": "[encoded data removed]",
            "text/plain": [
              "<Figure size 432x288 with 1 Axes>"
            ]
          },
          "metadata": {
            "tags": []
          }
        }
      ]
    },
    {
      "cell_type": "markdown",
      "metadata": {
        "id": "28ZjLuyGXXPL",
        "colab_type": "text"
      },
      "source": [
        "## Building a U-NET model\n",
        "Now we need to define the architecture of the model to use. This time we will use a [U-Net](https://lmb.informatik.uni-freiburg.de/people/ronneber/u-net/) that has proven to steadily outperform the other architectures in segmenting biological and medical images.\n",
        "\n",
        "The U-net has an encoder-decoder structure: \n",
        "\n",
        "In the encoder path, the input image is successively downsampled via max-pooling. In the decoder path it is upsampled again via transposed convolutions.\n",
        "\n",
        "In adddition, it has skip connections, that bridge the output from an encoder to the corresponding decoder.\n",
        "\n",
        "Note that we are using valid convolutions here; the input to convolutions are not padded and the spatial output size after applying them decreases. Hence, the spatial output size of the network will be smaller than the spatial input size. This could be avoided by using same convolutions, which would increase the computational effort though.\n",
        "\n",
        "Compared to the paper, we will use less features (channels) to enable training the network on the CPU as well."
      ]
    },
    {
      "cell_type": "code",
      "metadata": {
        "id": "FG7qWUaZDGX7",
        "colab_type": "code",
        "colab": {}
      },
      "source": [
        "#Each block of u-net architecture consist of two Convolution layers\n",
        "# These two layers are written in a function to make our code clean\n",
        "def conv2d_block(input_tensor, n_filters, kernel_size=3):\n",
        "    # first layer\n",
        "    x = Conv2D(filters=n_filters, kernel_size=(kernel_size, kernel_size),\n",
        "               padding=\"same\")(input_tensor)\n",
        "    x = Activation(\"relu\")(x)\n",
        "    # second layer\n",
        "    x = Conv2D(filters=n_filters, kernel_size=(kernel_size, kernel_size), \n",
        "               padding=\"same\")(x)\n",
        "    x = Activation(\"relu\")(x)\n",
        "    return x"
      ],
      "execution_count": 0,
      "outputs": []
    },
    {
      "cell_type": "code",
      "metadata": {
        "id": "lmmcdboyDOfy",
        "colab_type": "code",
        "colab": {}
      },
      "source": [
        "# The u-net architecture consists of contracting and expansive paths which\n",
        "# shrink and expands the inout image respectivly. \n",
        "# Output image have the same size of input image\n",
        "def get_unet(input_img, n_filters):\n",
        "    # contracting path\n",
        "    c1 = conv2d_block(input_img, n_filters=n_filters*4, kernel_size=3) #The first block of U-net\n",
        "    p1 = MaxPooling2D((2, 2)) (c1)\n",
        "\n",
        "    c2 = conv2d_block(p1, n_filters=n_filters*8, kernel_size=3)\n",
        "    p2 = MaxPooling2D((2, 2)) (c2)\n",
        "\n",
        "    c3 = conv2d_block(p2, n_filters=n_filters*16, kernel_size=3)\n",
        "    p3 = MaxPooling2D((2, 2)) (c3)\n",
        "\n",
        "    c4 = conv2d_block(p3, n_filters=n_filters*32, kernel_size=3)\n",
        "    p4 = MaxPooling2D(pool_size=(2, 2)) (c4)\n",
        "    \n",
        "    c5 = conv2d_block(p4, n_filters=n_filters*64, kernel_size=3) # last layer on encoding path \n",
        "    \n",
        "    # expansive path\n",
        "    u6 = Conv2DTranspose(n_filters*32, (3, 3), strides=(2, 2), padding='same') (c5) #upsampling included\n",
        "    u6 = concatenate([u6, c4])\n",
        "    c6 = conv2d_block(u6, n_filters=n_filters*32, kernel_size=3)\n",
        "\n",
        "    u7 = Conv2DTranspose(n_filters*16, (3, 3), strides=(2, 2), padding='same') (c6)\n",
        "    u7 = concatenate([u7, c3])\n",
        "    c7 = conv2d_block(u7, n_filters=n_filters*16, kernel_size=3)\n",
        "\n",
        "    u8 = Conv2DTranspose(n_filters*8, (3, 3), strides=(2, 2), padding='same') (c7)\n",
        "    u8 = concatenate([u8, c2])\n",
        "    c8 = conv2d_block(u8, n_filters=n_filters*8, kernel_size=3)\n",
        "\n",
        "    u9 = Conv2DTranspose(n_filters*4, (3, 3), strides=(2, 2), padding='same') (c8)\n",
        "    u9 = concatenate([u9, c1], axis=3)\n",
        "    c9 = conv2d_block(u9, n_filters=n_filters*4, kernel_size=3)\n",
        "    \n",
        "    outputs = Conv2D(1, (1, 1), activation='sigmoid') (c9)\n",
        "    model = Model(inputs=[input_img], outputs=[outputs])\n",
        "    return model"
      ],
      "execution_count": 0,
      "outputs": []
    },
    {
      "cell_type": "markdown",
      "metadata": {
        "colab_type": "text",
        "id": "CjAen-hlbLdb"
      },
      "source": [
        "## Loss and distance metrics\n",
        "\n",
        "The next step to do would be writing a loss function - a metric that will tell us how close we are to the desired output. This metric should be differentiable, since this is the value to be backpropagated. The are [multiple losses](https://lars76.github.io/neural-networks/object-detection/losses-for-segmentation/) we could use for the segmentation task.\n",
        "\n"
      ]
    },
    {
      "cell_type": "markdown",
      "metadata": {
        "colab_type": "text",
        "id": "sLBwBMipbLdl"
      },
      "source": [
        "We use Binary Cross Entropy averaged over pixels as training loss.\n",
        "This loss function is similar to the cross entropy loss we have used\n",
        "for the previous classification tasks.\n",
        "\n",
        "The difference to these tasks is that we predict a single number per pixel\n",
        "(the probability of this pixel being foreground / background) instead of \n",
        "a vector per image that encodes the probabilities for several classes.\n",
        "\n",
        "We also will use the [Dice Coefficeint](https://en.wikipedia.org/wiki/S%C3%B8rensen%E2%80%93Dice_coefficient) to evaluate the network predictions.\n",
        "We can use it for validation if we interpret set $a$ as predictions and $b$ as labels. It is often used to evaluate segmentations with sparse foreground, because the denominator normalizes by the number of foreground pixels.\n",
        "The Dice Coefficient is closely related to Jaccard Index / Intersection over Union."
      ]
    },
    {
      "cell_type": "code",
      "metadata": {
        "id": "s2ypLh2eDaFg",
        "colab_type": "code",
        "colab": {}
      },
      "source": [
        "# the coefficient takes values in [0, 1], where 0 is the worst score, 1 is the best score\n",
        "# the dice coefficient of two sets represented as vectors a, b ca be computed as (2 *|a b| / (a^2 + b^2))\n",
        "def dice_coefficient(y_true, y_pred):\n",
        "    eps = 1e-6\n",
        "    y_true_f = K.flatten(y_true)\n",
        "    y_pred_f = K.flatten(y_pred)\n",
        "    intersection = K.sum(y_true_f * y_pred_f)\n",
        "    return (2. * intersection) / (K.sum(y_true_f * y_true_f) + K.sum(y_pred_f * y_pred_f) + eps)"
      ],
      "execution_count": 0,
      "outputs": []
    },
    {
      "cell_type": "code",
      "metadata": {
        "id": "6C5sXunADfs-",
        "colab_type": "code",
        "colab": {}
      },
      "source": [
        "# Creating and Compiling the model\n",
        "input_img = Input((X_train.shape[1], X_train.shape[2], 3), name='img')\n",
        "model = get_unet(input_img, n_filters=4)\n",
        "\n",
        "model.compile(optimizer=Adam(), loss=\"binary_crossentropy\", metrics=[dice_coefficient])\n",
        "model.summary()"
      ],
      "execution_count": 0,
      "outputs": []
    },
    {
      "cell_type": "code",
      "metadata": {
        "id": "dJ7o-MLtESE4",
        "colab_type": "code",
        "colab": {}
      },
      "source": [
        "# saving the log and show it by tensorboard\n",
        "!pip install tensorboardcolab\n",
        "from tensorboardcolab import TensorBoardColab, TensorBoardColabCallback\n",
        "tbc=TensorBoardColab()"
      ],
      "execution_count": 0,
      "outputs": []
    },
    {
      "cell_type": "code",
      "metadata": {
        "id": "AESOWsYnEZCt",
        "colab_type": "code",
        "colab": {}
      },
      "source": [
        "# Fiting the model \n",
        "results = model.fit(X_train, Y_train, \n",
        "                    batch_size=5, epochs=15, \n",
        "                    callbacks=[TensorBoardColabCallback(tbc)],\n",
        "                    validation_split=0.3)"
      ],
      "execution_count": 0,
      "outputs": []
    },
    {
      "cell_type": "markdown",
      "metadata": {
        "id": "hKo4jqpYeHLK",
        "colab_type": "text"
      },
      "source": [
        "## Model testing and predictions\n",
        "Now this is the time to evaluate our training model on test data which the model has never seen them before. In Keras, we can use \"model.evaluate\" to evaluate the training model where there is an avalibility of masks of test data."
      ]
    },
    {
      "cell_type": "code",
      "metadata": {
        "id": "jse1rUxRSQr3",
        "colab_type": "code",
        "colab": {}
      },
      "source": [
        "model.evaluate(X_test,Y_test)"
      ],
      "execution_count": 0,
      "outputs": []
    },
    {
      "cell_type": "markdown",
      "metadata": {
        "id": "L17xt0U-ehA9",
        "colab_type": "text"
      },
      "source": [
        "In Keras, \"model.predict\" is the function to predict output (masks in segmentation task or labels in classification task). Then we visualize results and visually compare the predicted masks with the ground truth."
      ]
    },
    {
      "cell_type": "code",
      "metadata": {
        "id": "nMiuCBWAFJFI",
        "colab_type": "code",
        "colab": {}
      },
      "source": [
        "preds_test = model.predict(X_test, verbose=1)\n",
        "# we apply a threshold on predicted mask (probability mask) to convert it to a binary mask.\n",
        "preds_test_t = (preds_test > 0.3).astype(np.uint8) "
      ],
      "execution_count": 0,
      "outputs": []
    },
    {
      "cell_type": "code",
      "metadata": {
        "id": "ILtSa0-OQYMo",
        "colab_type": "code",
        "colab": {}
      },
      "source": [
        "ix = random.randint(0, len(X_test))\n",
        "fig = plt.figure(figsize=(10, 10))\n",
        "plt.subplot(221)\n",
        "plt.imshow(X_test[ix,:,:,0])\n",
        "plt.title(\"input image\")\n",
        "plt.subplot(222)\n",
        "plt.imshow(np.squeeze(Y_test[ix, :, :, 0]))\n",
        "plt.title(\"ground truth\")\n",
        "plt.subplot(223)\n",
        "plt.imshow(np.squeeze(preds_test[ix, :, :, 0]))\n",
        "plt.title(\"Probability map of the predicted mask\")\n",
        "plt.subplot(224)\n",
        "plt.imshow(np.squeeze(preds_test_t[ix, :, :, 0]))\n",
        "plt.title(\"Predicted mask after thresholding\")\n",
        "# show the plot\n",
        "plt.show()"
      ],
      "execution_count": 0,
      "outputs": []
    }
  ]
}